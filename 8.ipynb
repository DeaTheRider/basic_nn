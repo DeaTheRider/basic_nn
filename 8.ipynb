{
  "nbformat": 4,
  "nbformat_minor": 0,
  "metadata": {
    "colab": {
      "name": "Untitled10.ipynb",
      "provenance": []
    },
    "kernelspec": {
      "name": "python3",
      "display_name": "Python 3"
    },
    "widgets": {
      "application/vnd.jupyter.widget-state+json": {
        "65da905d88b04366ba9ffbc3103560e1": {
          "model_module": "@jupyter-widgets/controls",
          "model_name": "HBoxModel",
          "state": {
            "_view_name": "HBoxView",
            "_dom_classes": [],
            "_model_name": "HBoxModel",
            "_view_module": "@jupyter-widgets/controls",
            "_model_module_version": "1.5.0",
            "_view_count": null,
            "_view_module_version": "1.5.0",
            "box_style": "",
            "layout": "IPY_MODEL_82da79c277fc4a59ab128df7761755e0",
            "_model_module": "@jupyter-widgets/controls",
            "children": [
              "IPY_MODEL_b85b2e31de9d4ffbabc3fbf90cea2677",
              "IPY_MODEL_d4fee1b9efb64aad8d1dcb604a2fd8cc"
            ]
          }
        },
        "82da79c277fc4a59ab128df7761755e0": {
          "model_module": "@jupyter-widgets/base",
          "model_name": "LayoutModel",
          "state": {
            "_view_name": "LayoutView",
            "grid_template_rows": null,
            "right": null,
            "justify_content": null,
            "_view_module": "@jupyter-widgets/base",
            "overflow": null,
            "_model_module_version": "1.2.0",
            "_view_count": null,
            "flex_flow": null,
            "width": null,
            "min_width": null,
            "border": null,
            "align_items": null,
            "bottom": null,
            "_model_module": "@jupyter-widgets/base",
            "top": null,
            "grid_column": null,
            "overflow_y": null,
            "overflow_x": null,
            "grid_auto_flow": null,
            "grid_area": null,
            "grid_template_columns": null,
            "flex": null,
            "_model_name": "LayoutModel",
            "justify_items": null,
            "grid_row": null,
            "max_height": null,
            "align_content": null,
            "visibility": null,
            "align_self": null,
            "height": null,
            "min_height": null,
            "padding": null,
            "grid_auto_rows": null,
            "grid_gap": null,
            "max_width": null,
            "order": null,
            "_view_module_version": "1.2.0",
            "grid_template_areas": null,
            "object_position": null,
            "object_fit": null,
            "grid_auto_columns": null,
            "margin": null,
            "display": null,
            "left": null
          }
        },
        "b85b2e31de9d4ffbabc3fbf90cea2677": {
          "model_module": "@jupyter-widgets/controls",
          "model_name": "FloatProgressModel",
          "state": {
            "_view_name": "ProgressView",
            "style": "IPY_MODEL_626356b4db7344c1930f860f915c1e52",
            "_dom_classes": [],
            "description": "100%",
            "_model_name": "FloatProgressModel",
            "bar_style": "success",
            "max": 400,
            "_view_module": "@jupyter-widgets/controls",
            "_model_module_version": "1.5.0",
            "value": 400,
            "_view_count": null,
            "_view_module_version": "1.5.0",
            "orientation": "horizontal",
            "min": 0,
            "description_tooltip": null,
            "_model_module": "@jupyter-widgets/controls",
            "layout": "IPY_MODEL_f6a5a170dfba43609cf793223127b8e5"
          }
        },
        "d4fee1b9efb64aad8d1dcb604a2fd8cc": {
          "model_module": "@jupyter-widgets/controls",
          "model_name": "HTMLModel",
          "state": {
            "_view_name": "HTMLView",
            "style": "IPY_MODEL_fbfd795d596243b38fe3837117533456",
            "_dom_classes": [],
            "description": "",
            "_model_name": "HTMLModel",
            "placeholder": "​",
            "_view_module": "@jupyter-widgets/controls",
            "_model_module_version": "1.5.0",
            "value": " 400/400 [02:56&lt;00:00,  2.26it/s]",
            "_view_count": null,
            "_view_module_version": "1.5.0",
            "description_tooltip": null,
            "_model_module": "@jupyter-widgets/controls",
            "layout": "IPY_MODEL_994198b4e9cc495ba64ba15375e1f374"
          }
        },
        "626356b4db7344c1930f860f915c1e52": {
          "model_module": "@jupyter-widgets/controls",
          "model_name": "ProgressStyleModel",
          "state": {
            "_view_name": "StyleView",
            "_model_name": "ProgressStyleModel",
            "description_width": "initial",
            "_view_module": "@jupyter-widgets/base",
            "_model_module_version": "1.5.0",
            "_view_count": null,
            "_view_module_version": "1.2.0",
            "bar_color": null,
            "_model_module": "@jupyter-widgets/controls"
          }
        },
        "f6a5a170dfba43609cf793223127b8e5": {
          "model_module": "@jupyter-widgets/base",
          "model_name": "LayoutModel",
          "state": {
            "_view_name": "LayoutView",
            "grid_template_rows": null,
            "right": null,
            "justify_content": null,
            "_view_module": "@jupyter-widgets/base",
            "overflow": null,
            "_model_module_version": "1.2.0",
            "_view_count": null,
            "flex_flow": null,
            "width": null,
            "min_width": null,
            "border": null,
            "align_items": null,
            "bottom": null,
            "_model_module": "@jupyter-widgets/base",
            "top": null,
            "grid_column": null,
            "overflow_y": null,
            "overflow_x": null,
            "grid_auto_flow": null,
            "grid_area": null,
            "grid_template_columns": null,
            "flex": null,
            "_model_name": "LayoutModel",
            "justify_items": null,
            "grid_row": null,
            "max_height": null,
            "align_content": null,
            "visibility": null,
            "align_self": null,
            "height": null,
            "min_height": null,
            "padding": null,
            "grid_auto_rows": null,
            "grid_gap": null,
            "max_width": null,
            "order": null,
            "_view_module_version": "1.2.0",
            "grid_template_areas": null,
            "object_position": null,
            "object_fit": null,
            "grid_auto_columns": null,
            "margin": null,
            "display": null,
            "left": null
          }
        },
        "fbfd795d596243b38fe3837117533456": {
          "model_module": "@jupyter-widgets/controls",
          "model_name": "DescriptionStyleModel",
          "state": {
            "_view_name": "StyleView",
            "_model_name": "DescriptionStyleModel",
            "description_width": "",
            "_view_module": "@jupyter-widgets/base",
            "_model_module_version": "1.5.0",
            "_view_count": null,
            "_view_module_version": "1.2.0",
            "_model_module": "@jupyter-widgets/controls"
          }
        },
        "994198b4e9cc495ba64ba15375e1f374": {
          "model_module": "@jupyter-widgets/base",
          "model_name": "LayoutModel",
          "state": {
            "_view_name": "LayoutView",
            "grid_template_rows": null,
            "right": null,
            "justify_content": null,
            "_view_module": "@jupyter-widgets/base",
            "overflow": null,
            "_model_module_version": "1.2.0",
            "_view_count": null,
            "flex_flow": null,
            "width": null,
            "min_width": null,
            "border": null,
            "align_items": null,
            "bottom": null,
            "_model_module": "@jupyter-widgets/base",
            "top": null,
            "grid_column": null,
            "overflow_y": null,
            "overflow_x": null,
            "grid_auto_flow": null,
            "grid_area": null,
            "grid_template_columns": null,
            "flex": null,
            "_model_name": "LayoutModel",
            "justify_items": null,
            "grid_row": null,
            "max_height": null,
            "align_content": null,
            "visibility": null,
            "align_self": null,
            "height": null,
            "min_height": null,
            "padding": null,
            "grid_auto_rows": null,
            "grid_gap": null,
            "max_width": null,
            "order": null,
            "_view_module_version": "1.2.0",
            "grid_template_areas": null,
            "object_position": null,
            "object_fit": null,
            "grid_auto_columns": null,
            "margin": null,
            "display": null,
            "left": null
          }
        },
        "89cc31ca58614caab0dfd683738f8423": {
          "model_module": "@jupyter-widgets/controls",
          "model_name": "HBoxModel",
          "state": {
            "_view_name": "HBoxView",
            "_dom_classes": [],
            "_model_name": "HBoxModel",
            "_view_module": "@jupyter-widgets/controls",
            "_model_module_version": "1.5.0",
            "_view_count": null,
            "_view_module_version": "1.5.0",
            "box_style": "",
            "layout": "IPY_MODEL_e6f354dab90f47dbb47af1b4ac536734",
            "_model_module": "@jupyter-widgets/controls",
            "children": [
              "IPY_MODEL_24f47fabdd7c48448a56c29e2f8bee83",
              "IPY_MODEL_d80ae111fc6946ac801c60a0ec4b7336"
            ]
          }
        },
        "e6f354dab90f47dbb47af1b4ac536734": {
          "model_module": "@jupyter-widgets/base",
          "model_name": "LayoutModel",
          "state": {
            "_view_name": "LayoutView",
            "grid_template_rows": null,
            "right": null,
            "justify_content": null,
            "_view_module": "@jupyter-widgets/base",
            "overflow": null,
            "_model_module_version": "1.2.0",
            "_view_count": null,
            "flex_flow": null,
            "width": null,
            "min_width": null,
            "border": null,
            "align_items": null,
            "bottom": null,
            "_model_module": "@jupyter-widgets/base",
            "top": null,
            "grid_column": null,
            "overflow_y": null,
            "overflow_x": null,
            "grid_auto_flow": null,
            "grid_area": null,
            "grid_template_columns": null,
            "flex": null,
            "_model_name": "LayoutModel",
            "justify_items": null,
            "grid_row": null,
            "max_height": null,
            "align_content": null,
            "visibility": null,
            "align_self": null,
            "height": null,
            "min_height": null,
            "padding": null,
            "grid_auto_rows": null,
            "grid_gap": null,
            "max_width": null,
            "order": null,
            "_view_module_version": "1.2.0",
            "grid_template_areas": null,
            "object_position": null,
            "object_fit": null,
            "grid_auto_columns": null,
            "margin": null,
            "display": null,
            "left": null
          }
        },
        "24f47fabdd7c48448a56c29e2f8bee83": {
          "model_module": "@jupyter-widgets/controls",
          "model_name": "FloatProgressModel",
          "state": {
            "_view_name": "ProgressView",
            "style": "IPY_MODEL_27ac1186d485423badea761589a35b5e",
            "_dom_classes": [],
            "description": "100%",
            "_model_name": "FloatProgressModel",
            "bar_style": "success",
            "max": 150,
            "_view_module": "@jupyter-widgets/controls",
            "_model_module_version": "1.5.0",
            "value": 150,
            "_view_count": null,
            "_view_module_version": "1.5.0",
            "orientation": "horizontal",
            "min": 0,
            "description_tooltip": null,
            "_model_module": "@jupyter-widgets/controls",
            "layout": "IPY_MODEL_d65a568cca0c4cecbc0e87857ec68b26"
          }
        },
        "d80ae111fc6946ac801c60a0ec4b7336": {
          "model_module": "@jupyter-widgets/controls",
          "model_name": "HTMLModel",
          "state": {
            "_view_name": "HTMLView",
            "style": "IPY_MODEL_bc1df84e1ed44c22a537892bc35739aa",
            "_dom_classes": [],
            "description": "",
            "_model_name": "HTMLModel",
            "placeholder": "​",
            "_view_module": "@jupyter-widgets/controls",
            "_model_module_version": "1.5.0",
            "value": " 150/150 [00:21&lt;00:00,  6.82it/s]",
            "_view_count": null,
            "_view_module_version": "1.5.0",
            "description_tooltip": null,
            "_model_module": "@jupyter-widgets/controls",
            "layout": "IPY_MODEL_3ed6df3489a24b52a468ddcf21ed68f9"
          }
        },
        "27ac1186d485423badea761589a35b5e": {
          "model_module": "@jupyter-widgets/controls",
          "model_name": "ProgressStyleModel",
          "state": {
            "_view_name": "StyleView",
            "_model_name": "ProgressStyleModel",
            "description_width": "initial",
            "_view_module": "@jupyter-widgets/base",
            "_model_module_version": "1.5.0",
            "_view_count": null,
            "_view_module_version": "1.2.0",
            "bar_color": null,
            "_model_module": "@jupyter-widgets/controls"
          }
        },
        "d65a568cca0c4cecbc0e87857ec68b26": {
          "model_module": "@jupyter-widgets/base",
          "model_name": "LayoutModel",
          "state": {
            "_view_name": "LayoutView",
            "grid_template_rows": null,
            "right": null,
            "justify_content": null,
            "_view_module": "@jupyter-widgets/base",
            "overflow": null,
            "_model_module_version": "1.2.0",
            "_view_count": null,
            "flex_flow": null,
            "width": null,
            "min_width": null,
            "border": null,
            "align_items": null,
            "bottom": null,
            "_model_module": "@jupyter-widgets/base",
            "top": null,
            "grid_column": null,
            "overflow_y": null,
            "overflow_x": null,
            "grid_auto_flow": null,
            "grid_area": null,
            "grid_template_columns": null,
            "flex": null,
            "_model_name": "LayoutModel",
            "justify_items": null,
            "grid_row": null,
            "max_height": null,
            "align_content": null,
            "visibility": null,
            "align_self": null,
            "height": null,
            "min_height": null,
            "padding": null,
            "grid_auto_rows": null,
            "grid_gap": null,
            "max_width": null,
            "order": null,
            "_view_module_version": "1.2.0",
            "grid_template_areas": null,
            "object_position": null,
            "object_fit": null,
            "grid_auto_columns": null,
            "margin": null,
            "display": null,
            "left": null
          }
        },
        "bc1df84e1ed44c22a537892bc35739aa": {
          "model_module": "@jupyter-widgets/controls",
          "model_name": "DescriptionStyleModel",
          "state": {
            "_view_name": "StyleView",
            "_model_name": "DescriptionStyleModel",
            "description_width": "",
            "_view_module": "@jupyter-widgets/base",
            "_model_module_version": "1.5.0",
            "_view_count": null,
            "_view_module_version": "1.2.0",
            "_model_module": "@jupyter-widgets/controls"
          }
        },
        "3ed6df3489a24b52a468ddcf21ed68f9": {
          "model_module": "@jupyter-widgets/base",
          "model_name": "LayoutModel",
          "state": {
            "_view_name": "LayoutView",
            "grid_template_rows": null,
            "right": null,
            "justify_content": null,
            "_view_module": "@jupyter-widgets/base",
            "overflow": null,
            "_model_module_version": "1.2.0",
            "_view_count": null,
            "flex_flow": null,
            "width": null,
            "min_width": null,
            "border": null,
            "align_items": null,
            "bottom": null,
            "_model_module": "@jupyter-widgets/base",
            "top": null,
            "grid_column": null,
            "overflow_y": null,
            "overflow_x": null,
            "grid_auto_flow": null,
            "grid_area": null,
            "grid_template_columns": null,
            "flex": null,
            "_model_name": "LayoutModel",
            "justify_items": null,
            "grid_row": null,
            "max_height": null,
            "align_content": null,
            "visibility": null,
            "align_self": null,
            "height": null,
            "min_height": null,
            "padding": null,
            "grid_auto_rows": null,
            "grid_gap": null,
            "max_width": null,
            "order": null,
            "_view_module_version": "1.2.0",
            "grid_template_areas": null,
            "object_position": null,
            "object_fit": null,
            "grid_auto_columns": null,
            "margin": null,
            "display": null,
            "left": null
          }
        },
        "25c59d8eadf74c8f80a207829a75f3df": {
          "model_module": "@jupyter-widgets/controls",
          "model_name": "HBoxModel",
          "state": {
            "_view_name": "HBoxView",
            "_dom_classes": [],
            "_model_name": "HBoxModel",
            "_view_module": "@jupyter-widgets/controls",
            "_model_module_version": "1.5.0",
            "_view_count": null,
            "_view_module_version": "1.5.0",
            "box_style": "",
            "layout": "IPY_MODEL_8a248585ab9a4b189c4e21710a64482e",
            "_model_module": "@jupyter-widgets/controls",
            "children": [
              "IPY_MODEL_466d84c3f76546c39057750d9c361f14",
              "IPY_MODEL_a944245763f74d6fb878eea460803b03"
            ]
          }
        },
        "8a248585ab9a4b189c4e21710a64482e": {
          "model_module": "@jupyter-widgets/base",
          "model_name": "LayoutModel",
          "state": {
            "_view_name": "LayoutView",
            "grid_template_rows": null,
            "right": null,
            "justify_content": null,
            "_view_module": "@jupyter-widgets/base",
            "overflow": null,
            "_model_module_version": "1.2.0",
            "_view_count": null,
            "flex_flow": null,
            "width": null,
            "min_width": null,
            "border": null,
            "align_items": null,
            "bottom": null,
            "_model_module": "@jupyter-widgets/base",
            "top": null,
            "grid_column": null,
            "overflow_y": null,
            "overflow_x": null,
            "grid_auto_flow": null,
            "grid_area": null,
            "grid_template_columns": null,
            "flex": null,
            "_model_name": "LayoutModel",
            "justify_items": null,
            "grid_row": null,
            "max_height": null,
            "align_content": null,
            "visibility": null,
            "align_self": null,
            "height": null,
            "min_height": null,
            "padding": null,
            "grid_auto_rows": null,
            "grid_gap": null,
            "max_width": null,
            "order": null,
            "_view_module_version": "1.2.0",
            "grid_template_areas": null,
            "object_position": null,
            "object_fit": null,
            "grid_auto_columns": null,
            "margin": null,
            "display": null,
            "left": null
          }
        },
        "466d84c3f76546c39057750d9c361f14": {
          "model_module": "@jupyter-widgets/controls",
          "model_name": "FloatProgressModel",
          "state": {
            "_view_name": "ProgressView",
            "style": "IPY_MODEL_03468e5b1f4e45ae851e44528ab0b166",
            "_dom_classes": [],
            "description": "100%",
            "_model_name": "FloatProgressModel",
            "bar_style": "success",
            "max": 150,
            "_view_module": "@jupyter-widgets/controls",
            "_model_module_version": "1.5.0",
            "value": 150,
            "_view_count": null,
            "_view_module_version": "1.5.0",
            "orientation": "horizontal",
            "min": 0,
            "description_tooltip": null,
            "_model_module": "@jupyter-widgets/controls",
            "layout": "IPY_MODEL_c183625ad5b4456cb6d48eac28b089dd"
          }
        },
        "a944245763f74d6fb878eea460803b03": {
          "model_module": "@jupyter-widgets/controls",
          "model_name": "HTMLModel",
          "state": {
            "_view_name": "HTMLView",
            "style": "IPY_MODEL_36c15f030e0f45e889b0527b73931dbb",
            "_dom_classes": [],
            "description": "",
            "_model_name": "HTMLModel",
            "placeholder": "​",
            "_view_module": "@jupyter-widgets/controls",
            "_model_module_version": "1.5.0",
            "value": " 150/150 [04:09&lt;00:00,  1.66s/it]",
            "_view_count": null,
            "_view_module_version": "1.5.0",
            "description_tooltip": null,
            "_model_module": "@jupyter-widgets/controls",
            "layout": "IPY_MODEL_91e0172c325244c2a3ff8b0d2c8bd337"
          }
        },
        "03468e5b1f4e45ae851e44528ab0b166": {
          "model_module": "@jupyter-widgets/controls",
          "model_name": "ProgressStyleModel",
          "state": {
            "_view_name": "StyleView",
            "_model_name": "ProgressStyleModel",
            "description_width": "initial",
            "_view_module": "@jupyter-widgets/base",
            "_model_module_version": "1.5.0",
            "_view_count": null,
            "_view_module_version": "1.2.0",
            "bar_color": null,
            "_model_module": "@jupyter-widgets/controls"
          }
        },
        "c183625ad5b4456cb6d48eac28b089dd": {
          "model_module": "@jupyter-widgets/base",
          "model_name": "LayoutModel",
          "state": {
            "_view_name": "LayoutView",
            "grid_template_rows": null,
            "right": null,
            "justify_content": null,
            "_view_module": "@jupyter-widgets/base",
            "overflow": null,
            "_model_module_version": "1.2.0",
            "_view_count": null,
            "flex_flow": null,
            "width": null,
            "min_width": null,
            "border": null,
            "align_items": null,
            "bottom": null,
            "_model_module": "@jupyter-widgets/base",
            "top": null,
            "grid_column": null,
            "overflow_y": null,
            "overflow_x": null,
            "grid_auto_flow": null,
            "grid_area": null,
            "grid_template_columns": null,
            "flex": null,
            "_model_name": "LayoutModel",
            "justify_items": null,
            "grid_row": null,
            "max_height": null,
            "align_content": null,
            "visibility": null,
            "align_self": null,
            "height": null,
            "min_height": null,
            "padding": null,
            "grid_auto_rows": null,
            "grid_gap": null,
            "max_width": null,
            "order": null,
            "_view_module_version": "1.2.0",
            "grid_template_areas": null,
            "object_position": null,
            "object_fit": null,
            "grid_auto_columns": null,
            "margin": null,
            "display": null,
            "left": null
          }
        },
        "36c15f030e0f45e889b0527b73931dbb": {
          "model_module": "@jupyter-widgets/controls",
          "model_name": "DescriptionStyleModel",
          "state": {
            "_view_name": "StyleView",
            "_model_name": "DescriptionStyleModel",
            "description_width": "",
            "_view_module": "@jupyter-widgets/base",
            "_model_module_version": "1.5.0",
            "_view_count": null,
            "_view_module_version": "1.2.0",
            "_model_module": "@jupyter-widgets/controls"
          }
        },
        "91e0172c325244c2a3ff8b0d2c8bd337": {
          "model_module": "@jupyter-widgets/base",
          "model_name": "LayoutModel",
          "state": {
            "_view_name": "LayoutView",
            "grid_template_rows": null,
            "right": null,
            "justify_content": null,
            "_view_module": "@jupyter-widgets/base",
            "overflow": null,
            "_model_module_version": "1.2.0",
            "_view_count": null,
            "flex_flow": null,
            "width": null,
            "min_width": null,
            "border": null,
            "align_items": null,
            "bottom": null,
            "_model_module": "@jupyter-widgets/base",
            "top": null,
            "grid_column": null,
            "overflow_y": null,
            "overflow_x": null,
            "grid_auto_flow": null,
            "grid_area": null,
            "grid_template_columns": null,
            "flex": null,
            "_model_name": "LayoutModel",
            "justify_items": null,
            "grid_row": null,
            "max_height": null,
            "align_content": null,
            "visibility": null,
            "align_self": null,
            "height": null,
            "min_height": null,
            "padding": null,
            "grid_auto_rows": null,
            "grid_gap": null,
            "max_width": null,
            "order": null,
            "_view_module_version": "1.2.0",
            "grid_template_areas": null,
            "object_position": null,
            "object_fit": null,
            "grid_auto_columns": null,
            "margin": null,
            "display": null,
            "left": null
          }
        },
        "6dba6816edf54ef996b6238beed44d40": {
          "model_module": "@jupyter-widgets/controls",
          "model_name": "HBoxModel",
          "state": {
            "_view_name": "HBoxView",
            "_dom_classes": [],
            "_model_name": "HBoxModel",
            "_view_module": "@jupyter-widgets/controls",
            "_model_module_version": "1.5.0",
            "_view_count": null,
            "_view_module_version": "1.5.0",
            "box_style": "",
            "layout": "IPY_MODEL_73e1e8df2cd44ce68168320ae76aec00",
            "_model_module": "@jupyter-widgets/controls",
            "children": [
              "IPY_MODEL_b32de6453813443abc289fb19022051d",
              "IPY_MODEL_1ba1b6c670264e2d8d2ffd5d5dec7f7e"
            ]
          }
        },
        "73e1e8df2cd44ce68168320ae76aec00": {
          "model_module": "@jupyter-widgets/base",
          "model_name": "LayoutModel",
          "state": {
            "_view_name": "LayoutView",
            "grid_template_rows": null,
            "right": null,
            "justify_content": null,
            "_view_module": "@jupyter-widgets/base",
            "overflow": null,
            "_model_module_version": "1.2.0",
            "_view_count": null,
            "flex_flow": null,
            "width": null,
            "min_width": null,
            "border": null,
            "align_items": null,
            "bottom": null,
            "_model_module": "@jupyter-widgets/base",
            "top": null,
            "grid_column": null,
            "overflow_y": null,
            "overflow_x": null,
            "grid_auto_flow": null,
            "grid_area": null,
            "grid_template_columns": null,
            "flex": null,
            "_model_name": "LayoutModel",
            "justify_items": null,
            "grid_row": null,
            "max_height": null,
            "align_content": null,
            "visibility": null,
            "align_self": null,
            "height": null,
            "min_height": null,
            "padding": null,
            "grid_auto_rows": null,
            "grid_gap": null,
            "max_width": null,
            "order": null,
            "_view_module_version": "1.2.0",
            "grid_template_areas": null,
            "object_position": null,
            "object_fit": null,
            "grid_auto_columns": null,
            "margin": null,
            "display": null,
            "left": null
          }
        },
        "b32de6453813443abc289fb19022051d": {
          "model_module": "@jupyter-widgets/controls",
          "model_name": "FloatProgressModel",
          "state": {
            "_view_name": "ProgressView",
            "style": "IPY_MODEL_6a599adb68eb461cb6bfb16c252091d0",
            "_dom_classes": [],
            "description": "100%",
            "_model_name": "FloatProgressModel",
            "bar_style": "success",
            "max": 400,
            "_view_module": "@jupyter-widgets/controls",
            "_model_module_version": "1.5.0",
            "value": 400,
            "_view_count": null,
            "_view_module_version": "1.5.0",
            "orientation": "horizontal",
            "min": 0,
            "description_tooltip": null,
            "_model_module": "@jupyter-widgets/controls",
            "layout": "IPY_MODEL_a3859fa5198a4cd1b80c8c340da75bf9"
          }
        },
        "1ba1b6c670264e2d8d2ffd5d5dec7f7e": {
          "model_module": "@jupyter-widgets/controls",
          "model_name": "HTMLModel",
          "state": {
            "_view_name": "HTMLView",
            "style": "IPY_MODEL_1bef3e129ead471dba6f1f5767f5dac3",
            "_dom_classes": [],
            "description": "",
            "_model_name": "HTMLModel",
            "placeholder": "​",
            "_view_module": "@jupyter-widgets/controls",
            "_model_module_version": "1.5.0",
            "value": " 400/400 [00:48&lt;00:00,  8.22it/s]",
            "_view_count": null,
            "_view_module_version": "1.5.0",
            "description_tooltip": null,
            "_model_module": "@jupyter-widgets/controls",
            "layout": "IPY_MODEL_64b20d1af75e40948a39b3c95bd643f3"
          }
        },
        "6a599adb68eb461cb6bfb16c252091d0": {
          "model_module": "@jupyter-widgets/controls",
          "model_name": "ProgressStyleModel",
          "state": {
            "_view_name": "StyleView",
            "_model_name": "ProgressStyleModel",
            "description_width": "initial",
            "_view_module": "@jupyter-widgets/base",
            "_model_module_version": "1.5.0",
            "_view_count": null,
            "_view_module_version": "1.2.0",
            "bar_color": null,
            "_model_module": "@jupyter-widgets/controls"
          }
        },
        "a3859fa5198a4cd1b80c8c340da75bf9": {
          "model_module": "@jupyter-widgets/base",
          "model_name": "LayoutModel",
          "state": {
            "_view_name": "LayoutView",
            "grid_template_rows": null,
            "right": null,
            "justify_content": null,
            "_view_module": "@jupyter-widgets/base",
            "overflow": null,
            "_model_module_version": "1.2.0",
            "_view_count": null,
            "flex_flow": null,
            "width": null,
            "min_width": null,
            "border": null,
            "align_items": null,
            "bottom": null,
            "_model_module": "@jupyter-widgets/base",
            "top": null,
            "grid_column": null,
            "overflow_y": null,
            "overflow_x": null,
            "grid_auto_flow": null,
            "grid_area": null,
            "grid_template_columns": null,
            "flex": null,
            "_model_name": "LayoutModel",
            "justify_items": null,
            "grid_row": null,
            "max_height": null,
            "align_content": null,
            "visibility": null,
            "align_self": null,
            "height": null,
            "min_height": null,
            "padding": null,
            "grid_auto_rows": null,
            "grid_gap": null,
            "max_width": null,
            "order": null,
            "_view_module_version": "1.2.0",
            "grid_template_areas": null,
            "object_position": null,
            "object_fit": null,
            "grid_auto_columns": null,
            "margin": null,
            "display": null,
            "left": null
          }
        },
        "1bef3e129ead471dba6f1f5767f5dac3": {
          "model_module": "@jupyter-widgets/controls",
          "model_name": "DescriptionStyleModel",
          "state": {
            "_view_name": "StyleView",
            "_model_name": "DescriptionStyleModel",
            "description_width": "",
            "_view_module": "@jupyter-widgets/base",
            "_model_module_version": "1.5.0",
            "_view_count": null,
            "_view_module_version": "1.2.0",
            "_model_module": "@jupyter-widgets/controls"
          }
        },
        "64b20d1af75e40948a39b3c95bd643f3": {
          "model_module": "@jupyter-widgets/base",
          "model_name": "LayoutModel",
          "state": {
            "_view_name": "LayoutView",
            "grid_template_rows": null,
            "right": null,
            "justify_content": null,
            "_view_module": "@jupyter-widgets/base",
            "overflow": null,
            "_model_module_version": "1.2.0",
            "_view_count": null,
            "flex_flow": null,
            "width": null,
            "min_width": null,
            "border": null,
            "align_items": null,
            "bottom": null,
            "_model_module": "@jupyter-widgets/base",
            "top": null,
            "grid_column": null,
            "overflow_y": null,
            "overflow_x": null,
            "grid_auto_flow": null,
            "grid_area": null,
            "grid_template_columns": null,
            "flex": null,
            "_model_name": "LayoutModel",
            "justify_items": null,
            "grid_row": null,
            "max_height": null,
            "align_content": null,
            "visibility": null,
            "align_self": null,
            "height": null,
            "min_height": null,
            "padding": null,
            "grid_auto_rows": null,
            "grid_gap": null,
            "max_width": null,
            "order": null,
            "_view_module_version": "1.2.0",
            "grid_template_areas": null,
            "object_position": null,
            "object_fit": null,
            "grid_auto_columns": null,
            "margin": null,
            "display": null,
            "left": null
          }
        }
      }
    }
  },
  "cells": [
    {
      "cell_type": "code",
      "metadata": {
        "id": "NBDbxo3N8Uey",
        "colab_type": "code",
        "colab": {
          "base_uri": "https://localhost:8080/",
          "height": 221
        },
        "outputId": "2e1ed222-788b-4fba-d037-d8520ebca40a"
      },
      "source": [
        "!pip3 install librosa"
      ],
      "execution_count": 1,
      "outputs": [
        {
          "output_type": "stream",
          "text": [
            "Requirement already satisfied: librosa in /usr/local/lib/python3.6/dist-packages (0.6.3)\n",
            "Requirement already satisfied: numba>=0.38.0 in /usr/local/lib/python3.6/dist-packages (from librosa) (0.48.0)\n",
            "Requirement already satisfied: decorator>=3.0.0 in /usr/local/lib/python3.6/dist-packages (from librosa) (4.4.2)\n",
            "Requirement already satisfied: audioread>=2.0.0 in /usr/local/lib/python3.6/dist-packages (from librosa) (2.1.8)\n",
            "Requirement already satisfied: joblib>=0.12 in /usr/local/lib/python3.6/dist-packages (from librosa) (0.14.1)\n",
            "Requirement already satisfied: numpy>=1.8.0 in /usr/local/lib/python3.6/dist-packages (from librosa) (1.18.4)\n",
            "Requirement already satisfied: scipy>=1.0.0 in /usr/local/lib/python3.6/dist-packages (from librosa) (1.4.1)\n",
            "Requirement already satisfied: resampy>=0.2.0 in /usr/local/lib/python3.6/dist-packages (from librosa) (0.2.2)\n",
            "Requirement already satisfied: scikit-learn!=0.19.0,>=0.14.0 in /usr/local/lib/python3.6/dist-packages (from librosa) (0.22.2.post1)\n",
            "Requirement already satisfied: six>=1.3 in /usr/local/lib/python3.6/dist-packages (from librosa) (1.12.0)\n",
            "Requirement already satisfied: setuptools in /usr/local/lib/python3.6/dist-packages (from numba>=0.38.0->librosa) (46.3.0)\n",
            "Requirement already satisfied: llvmlite<0.32.0,>=0.31.0dev0 in /usr/local/lib/python3.6/dist-packages (from numba>=0.38.0->librosa) (0.31.0)\n"
          ],
          "name": "stdout"
        }
      ]
    },
    {
      "cell_type": "code",
      "metadata": {
        "id": "ugdUnYWk8XPV",
        "colab_type": "code",
        "colab": {
          "base_uri": "https://localhost:8080/",
          "height": 34
        },
        "outputId": "23e99e94-049d-40f1-e555-4544087752e8"
      },
      "source": [
        "from sklearn.model_selection import train_test_split\n",
        "from itertools import chain\n",
        "from tqdm import tqdm, tqdm_notebook\n",
        "import joblib as jl\n",
        "import os\n",
        "\n",
        "import matplotlib.pyplot as plt\n",
        "import IPython # прослушивание аудио в ноутбуке\n",
        "import numpy as np # отсюда возьмем Фурье\n",
        "import librosa # множественные манипуляции с аудиофайлами \n",
        "import keras, keras.layers\n",
        "\n",
        "%matplotlib inline\n",
        "\n",
        "import torch\n",
        "from sklearn.metrics import accuracy_score\n",
        "plt.style.use('fivethirtyeight')"
      ],
      "execution_count": 1,
      "outputs": [
        {
          "output_type": "stream",
          "text": [
            "Using TensorFlow backend.\n"
          ],
          "name": "stderr"
        }
      ]
    },
    {
      "cell_type": "code",
      "metadata": {
        "id": "vztcS7uS8Y2C",
        "colab_type": "code",
        "colab": {
          "base_uri": "https://localhost:8080/"
        },
        "outputId": "58b09bed-f98a-4ca9-d3d3-aed244488beb"
      },
      "source": [
        "! wget https://audio-previews.elements.envatousercontent.com/files/6319559/preview.mp3 -O sample_f.mp3\n",
        "! wget https://audio-previews.elements.envatousercontent.com/files/256324900/preview.mp3 -O sample_m.mp3"
      ],
      "execution_count": 3,
      "outputs": [
        {
          "output_type": "stream",
          "text": [
            "--2020-05-17 23:23:18--  https://audio-previews.elements.envatousercontent.com/files/6319559/preview.mp3\n",
            "Resolving audio-previews.elements.envatousercontent.com (audio-previews.elements.envatousercontent.com)... 54.192.87.33, 54.192.87.46, 54.192.87.105, ...\n",
            "Connecting to audio-previews.elements.envatousercontent.com (audio-previews.elements.envatousercontent.com)|54.192.87.33|:443... connected.\n",
            "HTTP request sent, awaiting response... 200 OK\n",
            "Length: 28202 (28K) [audio/mpeg]\n",
            "Saving to: ‘sample_f.mp3’\n",
            "\n",
            "\rsample_f.mp3          0%[                    ]       0  --.-KB/s               \rsample_f.mp3        100%[===================>]  27.54K  --.-KB/s    in 0.002s  \n",
            "\n",
            "2020-05-17 23:23:18 (17.8 MB/s) - ‘sample_f.mp3’ saved [28202/28202]\n",
            "\n",
            "--2020-05-17 23:23:20--  https://audio-previews.elements.envatousercontent.com/files/256324900/preview.mp3\n",
            "Resolving audio-previews.elements.envatousercontent.com (audio-previews.elements.envatousercontent.com)... 54.192.87.33, 54.192.87.46, 54.192.87.105, ...\n",
            "Connecting to audio-previews.elements.envatousercontent.com (audio-previews.elements.envatousercontent.com)|54.192.87.33|:443... connected.\n",
            "HTTP request sent, awaiting response... 200 OK\n",
            "Length: 68884 (67K) [audio/mpeg]\n",
            "Saving to: ‘sample_m.mp3’\n",
            "\n",
            "sample_m.mp3        100%[===================>]  67.27K  --.-KB/s    in 0.007s  \n",
            "\n",
            "2020-05-17 23:23:20 (9.54 MB/s) - ‘sample_m.mp3’ saved [68884/68884]\n",
            "\n"
          ],
          "name": "stdout"
        }
      ]
    },
    {
      "cell_type": "code",
      "metadata": {
        "id": "Ozurlzh89FLY",
        "colab_type": "code",
        "colab": {
          "base_uri": "https://localhost:8080/",
          "height": 632
        },
        "outputId": "bed13341-df1d-4b71-f203-47a9602ac2d1"
      },
      "source": [
        "!ffmpeg -i sample_m.mp3 -ar 22050 -ac 1 sample_m.wav"
      ],
      "execution_count": 4,
      "outputs": [
        {
          "output_type": "stream",
          "text": [
            "ffmpeg version 3.4.6-0ubuntu0.18.04.1 Copyright (c) 2000-2019 the FFmpeg developers\n",
            "  built with gcc 7 (Ubuntu 7.3.0-16ubuntu3)\n",
            "  configuration: --prefix=/usr --extra-version=0ubuntu0.18.04.1 --toolchain=hardened --libdir=/usr/lib/x86_64-linux-gnu --incdir=/usr/include/x86_64-linux-gnu --enable-gpl --disable-stripping --enable-avresample --enable-avisynth --enable-gnutls --enable-ladspa --enable-libass --enable-libbluray --enable-libbs2b --enable-libcaca --enable-libcdio --enable-libflite --enable-libfontconfig --enable-libfreetype --enable-libfribidi --enable-libgme --enable-libgsm --enable-libmp3lame --enable-libmysofa --enable-libopenjpeg --enable-libopenmpt --enable-libopus --enable-libpulse --enable-librubberband --enable-librsvg --enable-libshine --enable-libsnappy --enable-libsoxr --enable-libspeex --enable-libssh --enable-libtheora --enable-libtwolame --enable-libvorbis --enable-libvpx --enable-libwavpack --enable-libwebp --enable-libx265 --enable-libxml2 --enable-libxvid --enable-libzmq --enable-libzvbi --enable-omx --enable-openal --enable-opengl --enable-sdl2 --enable-libdc1394 --enable-libdrm --enable-libiec61883 --enable-chromaprint --enable-frei0r --enable-libopencv --enable-libx264 --enable-shared\n",
            "  libavutil      55. 78.100 / 55. 78.100\n",
            "  libavcodec     57.107.100 / 57.107.100\n",
            "  libavformat    57. 83.100 / 57. 83.100\n",
            "  libavdevice    57. 10.100 / 57. 10.100\n",
            "  libavfilter     6.107.100 /  6.107.100\n",
            "  libavresample   3.  7.  0 /  3.  7.  0\n",
            "  libswscale      4.  8.100 /  4.  8.100\n",
            "  libswresample   2.  9.100 /  2.  9.100\n",
            "  libpostproc    54.  7.100 / 54.  7.100\n",
            "\u001b[0;35m[mp3 @ 0x55ddfcd0a000] \u001b[0m\u001b[0;33mEstimating duration from bitrate, this may be inaccurate\n",
            "\u001b[0mInput #0, mp3, from 'sample_m.mp3':\n",
            "  Metadata:\n",
            "    comment         : \n",
            "    TLEN            : 1673\n",
            "    encoded_by      : Sound Forge 2.0.5 (Build 317)\n",
            "  Duration: 00:00:01.70, start: 0.000000, bitrate: 324 kb/s\n",
            "    Stream #0:0: Audio: mp3, 44100 Hz, stereo, s16p, 320 kb/s\n",
            "File 'sample_m.wav' already exists. Overwrite ? [y/N] y\n",
            "Stream mapping:\n",
            "  Stream #0:0 -> #0:0 (mp3 (native) -> pcm_s16le (native))\n",
            "Press [q] to stop, [?] for help\n",
            "Output #0, wav, to 'sample_m.wav':\n",
            "  Metadata:\n",
            "    ICMT            : \n",
            "    TLEN            : 1673\n",
            "    ITCH            : Sound Forge 2.0.5 (Build 317)\n",
            "    ISFT            : Lavf57.83.100\n",
            "    Stream #0:0: Audio: pcm_s16le ([1][0][0][0] / 0x0001), 22050 Hz, mono, s16, 352 kb/s\n",
            "    Metadata:\n",
            "      encoder         : Lavc57.107.100 pcm_s16le\n",
            "size=      73kB time=00:00:01.69 bitrate= 353.3kbits/s speed= 287x    \n",
            "video:0kB audio:73kB subtitle:0kB other streams:0kB global headers:0kB muxing overhead: 0.154915%\n"
          ],
          "name": "stdout"
        }
      ]
    },
    {
      "cell_type": "code",
      "metadata": {
        "id": "zzhvXkKG9eil",
        "colab_type": "code",
        "colab": {
          "base_uri": "https://localhost:8080/",
          "height": 615
        },
        "outputId": "82b50797-7121-40e5-ca50-73aac5d03e2e"
      },
      "source": [
        "!ffmpeg -i sample_f.mp3 -ar 22050 -ac 1 sample_f.wav"
      ],
      "execution_count": 5,
      "outputs": [
        {
          "output_type": "stream",
          "text": [
            "ffmpeg version 3.4.6-0ubuntu0.18.04.1 Copyright (c) 2000-2019 the FFmpeg developers\n",
            "  built with gcc 7 (Ubuntu 7.3.0-16ubuntu3)\n",
            "  configuration: --prefix=/usr --extra-version=0ubuntu0.18.04.1 --toolchain=hardened --libdir=/usr/lib/x86_64-linux-gnu --incdir=/usr/include/x86_64-linux-gnu --enable-gpl --disable-stripping --enable-avresample --enable-avisynth --enable-gnutls --enable-ladspa --enable-libass --enable-libbluray --enable-libbs2b --enable-libcaca --enable-libcdio --enable-libflite --enable-libfontconfig --enable-libfreetype --enable-libfribidi --enable-libgme --enable-libgsm --enable-libmp3lame --enable-libmysofa --enable-libopenjpeg --enable-libopenmpt --enable-libopus --enable-libpulse --enable-librubberband --enable-librsvg --enable-libshine --enable-libsnappy --enable-libsoxr --enable-libspeex --enable-libssh --enable-libtheora --enable-libtwolame --enable-libvorbis --enable-libvpx --enable-libwavpack --enable-libwebp --enable-libx265 --enable-libxml2 --enable-libxvid --enable-libzmq --enable-libzvbi --enable-omx --enable-openal --enable-opengl --enable-sdl2 --enable-libdc1394 --enable-libdrm --enable-libiec61883 --enable-chromaprint --enable-frei0r --enable-libopencv --enable-libx264 --enable-shared\n",
            "  libavutil      55. 78.100 / 55. 78.100\n",
            "  libavcodec     57.107.100 / 57.107.100\n",
            "  libavformat    57. 83.100 / 57. 83.100\n",
            "  libavdevice    57. 10.100 / 57. 10.100\n",
            "  libavfilter     6.107.100 /  6.107.100\n",
            "  libavresample   3.  7.  0 /  3.  7.  0\n",
            "  libswscale      4.  8.100 /  4.  8.100\n",
            "  libswresample   2.  9.100 /  2.  9.100\n",
            "  libpostproc    54.  7.100 / 54.  7.100\n",
            "Input #0, mp3, from 'sample_f.mp3':\n",
            "  Metadata:\n",
            "    album           : http://audiojungle.net/user/urbazon/portfolio\n",
            "    artist          : http://audiojungle.net/user/urbazon\n",
            "  Duration: 00:00:01.59, start: 0.025057, bitrate: 141 kb/s\n",
            "    Stream #0:0: Audio: mp3, 44100 Hz, stereo, s16p, 128 kb/s\n",
            "    Metadata:\n",
            "      encoder         : LAME3.98r\n",
            "File 'sample_f.wav' already exists. Overwrite ? [y/N] y\n",
            "Stream mapping:\n",
            "  Stream #0:0 -> #0:0 (mp3 (native) -> pcm_s16le (native))\n",
            "Press [q] to stop, [?] for help\n",
            "Output #0, wav, to 'sample_f.wav':\n",
            "  Metadata:\n",
            "    IPRD            : http://audiojungle.net/user/urbazon/portfolio\n",
            "    IART            : http://audiojungle.net/user/urbazon\n",
            "    ISFT            : Lavf57.83.100\n",
            "    Stream #0:0: Audio: pcm_s16le ([1][0][0][0] / 0x0001), 22050 Hz, mono, s16, 352 kb/s\n",
            "    Metadata:\n",
            "      encoder         : Lavc57.107.100 pcm_s16le\n",
            "size=      67kB time=00:00:01.54 bitrate= 353.7kbits/s speed= 317x    \n",
            "video:0kB audio:67kB subtitle:0kB other streams:0kB global headers:0kB muxing overhead: 0.258368%\n"
          ],
          "name": "stdout"
        }
      ]
    },
    {
      "cell_type": "code",
      "metadata": {
        "id": "5I7VOTtM9i39",
        "colab_type": "code",
        "colab": {
          "base_uri": "https://localhost:8080/",
          "height": 296
        },
        "outputId": "ef4470fd-5c71-4d81-8d17-05850e622d21"
      },
      "source": [
        "amplitudes, sample_rate = librosa.load(\"sample_m.wav\")\n",
        "print(f\"{len(amplitudes)} points, {len(amplitudes) / sample_rate} sec, sr {sample_rate}\")\n",
        "plt.figure(figsize=[15, 4])\n",
        "plt.title('')\n",
        "plt.plot(amplitudes[20000:25000],linewidth=1.5)"
      ],
      "execution_count": 2,
      "outputs": [
        {
          "output_type": "stream",
          "text": [
            "37440 points, 1.6979591836734693 sec, sr 22050\n"
          ],
          "name": "stdout"
        },
        {
          "output_type": "execute_result",
          "data": {
            "text/plain": [
              "[<matplotlib.lines.Line2D at 0x7fc1935df7f0>]"
            ]
          },
          "metadata": {
            "tags": []
          },
          "execution_count": 2
        },
        {
          "output_type": "display_data",
          "data": {
            "image/png": "[encoded data removed]",
            "text/plain": [
              "<Figure size 1080x288 with 1 Axes>"
            ]
          },
          "metadata": {
            "tags": [],
            "needs_background": "light"
          }
        }
      ]
    },
    {
      "cell_type": "code",
      "metadata": {
        "id": "koYJpHtI8aSk",
        "colab_type": "code",
        "colab": {}
      },
      "source": [
        "def slice_into_frames(amplitudes, window_length, hop_length):\n",
        "    return librosa.core.spectrum.util.frame(\n",
        "        np.pad(amplitudes, int(window_length // 2), mode='reflect'),\n",
        "        frame_length=window_length, hop_length=hop_length)\n",
        "    # выход: [window_length, num_windows]"
      ],
      "execution_count": 0,
      "outputs": []
    },
    {
      "cell_type": "code",
      "metadata": {
        "id": "F4dqzPU58gJK",
        "colab_type": "code",
        "colab": {}
      },
      "source": [
        "def get_STFT(amplitudes, window_length, hop_length):\n",
        "    \"\"\" Compute short-time Fourier Transform \"\"\"\n",
        "    # разбиваем амплитуды на пересекающиеся фреймы [window_length, num_frames]\n",
        "    frames = slice_into_frames(amplitudes, window_length, hop_length)\n",
        "    \n",
        "    # получаем веса для Фурье, float[window_length]\n",
        "    fft_weights = librosa.core.spectrum.get_window('hann', window_length, fftbins=True)\n",
        "    \n",
        "    # применяем преобразование Фурье\n",
        "    stft = np.fft.rfft(frames * fft_weights[:, None], axis=0)\n",
        "    return stft"
      ],
      "execution_count": 0,
      "outputs": []
    },
    {
      "cell_type": "code",
      "metadata": {
        "id": "KEboaFL98hbq",
        "colab_type": "code",
        "colab": {}
      },
      "source": [
        "def get_melspectrogram(amplitudes, sample_rate=22050, n_mels=128,\n",
        "                       window_length=2048, hop_length=512, fmin=1, fmax=8192):\n",
        "    \"\"\"\n",
        "    Implement mel-spectrogram as described above.\n",
        "    :param amplitudes: float [num_amplitudes]\n",
        "    :param sample rate: число отсчетов каждую секунду\n",
        "    :param n_mels: число каналов спектрограммы\n",
        "    :param window_length: параметр размера окна для Фурье\n",
        "    :param hop_length: размер пересечения \n",
        "    :param f_min: мин частота\n",
        "    :param f_max: макс частота\n",
        "    :returns: мел-scaled спектрограмма [n_mels, duration]\n",
        "    \"\"\"\n",
        "    # Шаг 1\n",
        "    stft = get_STFT(amplitudes, window_length, hop_length)\n",
        "    assert stft.shape == (window_length // 2 + 1, len(amplitudes) // 512 + 1)\n",
        "    \n",
        "    # Шаг 2\n",
        "    spectrogram = np.abs(stft ** 2)\n",
        "    \n",
        "    # Шаг 3\n",
        "    mel_basis = librosa.filters.mel(sample_rate, n_fft=window_length,\n",
        "                                    n_mels=n_mels, fmin=fmin, fmax=fmax)\n",
        "    # ^-- matrix [n_mels, window_length / 2 + 1]\n",
        "    \n",
        "    mel_spectrogram = np.dot(mel_basis, spectrogram)\n",
        "    assert mel_spectrogram.shape == (n_mels, len(amplitudes) // 512 + 1)\n",
        "    \n",
        "    return mel_spectrogram"
      ],
      "execution_count": 0,
      "outputs": []
    },
    {
      "cell_type": "code",
      "metadata": {
        "id": "hFTJTntj-LyM",
        "colab_type": "code",
        "colab": {}
      },
      "source": [
        "amplitudes1, _  = librosa.load('sample_m.wav')\n",
        "amplitudes2, _  = librosa.load('sample_f.wav')"
      ],
      "execution_count": 0,
      "outputs": []
    },
    {
      "cell_type": "code",
      "metadata": {
        "id": "IWXjxEJ8-UmZ",
        "colab_type": "code",
        "colab": {}
      },
      "source": [
        "ref1 = librosa.feature.melspectrogram(amplitudes2, sr=sample_rate, n_mels=128, fmin=1, fmax=8192)\n",
        "assert np.allclose(get_melspectrogram(amplitudes2), ref1, rtol=1e-4, atol=1e-4)"
      ],
      "execution_count": 0,
      "outputs": []
    },
    {
      "cell_type": "code",
      "metadata": {
        "id": "bLJbXi8A8ii1",
        "colab_type": "code",
        "colab": {
          "base_uri": "https://localhost:8080/"
        },
        "outputId": "e522f22f-0383-478d-c503-a06d19d3004b"
      },
      "source": [
        "!wget https://ndownloader.figshare.com/files/10256148"
      ],
      "execution_count": 12,
      "outputs": [
        {
          "output_type": "stream",
          "text": [
            "--2020-05-17 23:23:57--  https://ndownloader.figshare.com/files/10256148\n",
            "Resolving ndownloader.figshare.com (ndownloader.figshare.com)... 52.49.29.191, 52.18.162.161, 34.252.167.52, ...\n",
            "Connecting to ndownloader.figshare.com (ndownloader.figshare.com)|52.49.29.191|:443... connected.\n",
            "HTTP request sent, awaiting response... 302 Found\n",
            "Location: https://s3-eu-west-1.amazonaws.com/pfigshare-u-files/10256148/TIMIT.zip [following]\n",
            "--2020-05-17 23:23:57--  https://s3-eu-west-1.amazonaws.com/pfigshare-u-files/10256148/TIMIT.zip\n",
            "Resolving s3-eu-west-1.amazonaws.com (s3-eu-west-1.amazonaws.com)... 52.218.108.187\n",
            "Connecting to s3-eu-west-1.amazonaws.com (s3-eu-west-1.amazonaws.com)|52.218.108.187|:443... connected.\n",
            "HTTP request sent, awaiting response... 200 OK\n",
            "Length: 440207227 (420M) [binary/octet-stream]\n",
            "Saving to: ‘10256148.4’\n",
            "\n",
            "10256148.4          100%[===================>] 419.81M  95.0MB/s    in 4.3s    \n",
            "\n",
            "2020-05-17 23:24:01 (97.0 MB/s) - ‘10256148.4’ saved [440207227/440207227]\n",
            "\n"
          ],
          "name": "stdout"
        }
      ]
    },
    {
      "cell_type": "code",
      "metadata": {
        "id": "T9np3vDw8lHL",
        "colab_type": "code",
        "colab": {
          "base_uri": "https://localhost:8080/",
          "height": 46
        },
        "outputId": "8363fafa-edf9-4d7e-af3d-61d8d7d65d33"
      },
      "source": [
        "!unzip -q 10256148"
      ],
      "execution_count": 0,
      "outputs": [
        {
          "output_type": "stream",
          "text": [
            "replace data/lisa/data/timit/raw/TIMIT/DOC/PROMPTS.TXT? [y]es, [n]o, [A]ll, [N]one, [r]ename: "
          ],
          "name": "stdout"
        }
      ]
    },
    {
      "cell_type": "code",
      "metadata": {
        "id": "VV129kYw8mpk",
        "colab_type": "code",
        "colab": {}
      },
      "source": [
        "!pip install timit-utils"
      ],
      "execution_count": 0,
      "outputs": []
    },
    {
      "cell_type": "code",
      "metadata": {
        "id": "GUinGI_58oDR",
        "colab_type": "code",
        "colab": {
          "base_uri": "https://localhost:8080/",
          "height": 192
        },
        "outputId": "324545b3-42ac-4704-ce6e-816094861ff6"
      },
      "source": [
        "%matplotlib inline\n",
        "import timit_utils as tu\n",
        "import timit_utils.audio_utils as au\n",
        "import timit_utils.drawing_utils as du\n",
        "\n",
        "DATA_PATH = 'data/lisa/data/timit/raw/TIMIT'\n",
        "corpus = tu.Corpus(DATA_PATH)\n",
        "sentence = corpus.train.sentences_by_phone_df('aa').sentence[0]\n",
        "du.DrawVerticalPanels([du.AudioPanel(sentence.raw_audio, show_x_axis=True),\n",
        "                       du.WordsPanel(sentence.words_df, sentence.raw_audio.shape[0], show_x_axis=True),\n",
        "                       du.PhonesPanel(sentence.phones_df, sentence.raw_audio.shape[0])\n",
        "                      ])\n",
        "  "
      ],
      "execution_count": 8,
      "outputs": [
        {
          "output_type": "display_data",
          "data": {
            "image/png": "[encoded data removed]",
            "text/plain": [
              "<Figure size 1600x240 with 3 Axes>"
            ]
          },
          "metadata": {
            "tags": [],
            "needs_background": "dark"
          }
        }
      ]
    },
    {
      "cell_type": "code",
      "metadata": {
        "id": "9dc-TVy38ppH",
        "colab_type": "code",
        "colab": {}
      },
      "source": [
        "class Speaker:\n",
        "\n",
        "  def __init__(self, data_path):\n",
        "    self.doc_file_path = os.path.join(data_path, 'DOC','SPKRINFO.TXT')\n",
        "    with open(self.doc_file_path) as f:\n",
        "      self.id_sex_dict = dict([(tmp.split(' ')[0], tmp.split(' ')[2]) for tmp in f.readlines()[39:]])\n",
        "\n",
        "  def return_sex(self, id):\n",
        "    return self.id_sex_dict[id]\n",
        "\n",
        "Speakers_info = Speaker(DATA_PATH)"
      ],
      "execution_count": 0,
      "outputs": []
    },
    {
      "cell_type": "code",
      "metadata": {
        "id": "F7Ke9s0M8xLi",
        "colab_type": "code",
        "colab": {}
      },
      "source": [
        "person_1 = corpus.train.person_by_index(100)"
      ],
      "execution_count": 0,
      "outputs": []
    },
    {
      "cell_type": "code",
      "metadata": {
        "id": "jAiIky038rO-",
        "colab_type": "code",
        "colab": {}
      },
      "source": [
        "def preprocess_sample(amplitudes, gender, sr=16000, max_length=150):\n",
        "    spectrogram = get_melspectrogram(amplitudes, sample_rate=sr)[:, :max_length]\n",
        "    spectrogram = np.pad(spectrogram, [[0, 0], [0, max(0, max_length - spectrogram.shape[1])]], mode='constant')\n",
        "    target = 0 if gender == 'F' else 1\n",
        "    return np.float32(spectrogram), np.int64(target)\n",
        "    \n",
        "tmp_1 = preprocess_sample(person_1.sentence_by_index(1).raw_audio, Speakers_info.return_sex(person_1.name))[0]\n",
        "tmp_2 = librosa.feature.melspectrogram(person_1.sentence_by_index(1).raw_audio, sr=sample_rate, n_mels=128, fmin=1, fmax=8192)\n",
        "assert np.allclose(get_melspectrogram(amplitudes2), ref1, rtol=1e-4, atol=1e-4)"
      ],
      "execution_count": 0,
      "outputs": []
    },
    {
      "cell_type": "code",
      "metadata": {
        "id": "A1XBOyjj8uPR",
        "colab_type": "code",
        "colab": {}
      },
      "source": [
        "def create_dataset(mode='train'):\n",
        "  assert mode in ['train','test']\n",
        "  if mode == 'train':\n",
        "    people = [corpus.train.person_by_index(i) for i in range(400)]\n",
        "  if mode == 'test':\n",
        "    people = [corpus.test.person_by_index(i) for i in range(150)]\n",
        "  spectrograms_and_targets = []\n",
        "  for person in tqdm_notebook(people): \n",
        "    target = Speakers_info.return_sex(person.name)\n",
        "    for i in range(len(person.sentences)):\n",
        "      spectrograms_and_targets.append(preprocess_sample(person.sentence_by_index(i).raw_audio, target))\n",
        "  return spectrograms_and_targets"
      ],
      "execution_count": 0,
      "outputs": []
    },
    {
      "cell_type": "code",
      "metadata": {
        "id": "drvEXzhZ9R7e",
        "colab_type": "code",
        "colab": {
          "base_uri": "https://localhost:8080/",
          "height": 117,
          "referenced_widgets": [
            "65da905d88b04366ba9ffbc3103560e1",
            "82da79c277fc4a59ab128df7761755e0",
            "b85b2e31de9d4ffbabc3fbf90cea2677",
            "d4fee1b9efb64aad8d1dcb604a2fd8cc",
            "626356b4db7344c1930f860f915c1e52",
            "f6a5a170dfba43609cf793223127b8e5",
            "fbfd795d596243b38fe3837117533456",
            "994198b4e9cc495ba64ba15375e1f374"
          ]
        },
        "outputId": "b77b7224-648e-457f-d0b2-b6c016125eae"
      },
      "source": [
        "trainset = create_dataset('train')"
      ],
      "execution_count": 13,
      "outputs": [
        {
          "output_type": "stream",
          "text": [
            "/usr/local/lib/python3.6/dist-packages/ipykernel_launcher.py:8: TqdmDeprecationWarning: This function will be removed in tqdm==5.0.0\n",
            "Please use `tqdm.notebook.tqdm` instead of `tqdm.tqdm_notebook`\n",
            "  \n"
          ],
          "name": "stderr"
        },
        {
          "output_type": "display_data",
          "data": {
            "application/vnd.jupyter.widget-view+json": {
              "model_id": "65da905d88b04366ba9ffbc3103560e1",
              "version_minor": 0,
              "version_major": 2
            },
            "text/plain": [
              "HBox(children=(FloatProgress(value=0.0, max=400.0), HTML(value='')))"
            ]
          },
          "metadata": {
            "tags": []
          }
        },
        {
          "output_type": "stream",
          "text": [
            "\n"
          ],
          "name": "stdout"
        }
      ]
    },
    {
      "cell_type": "code",
      "metadata": {
        "id": "h_K3leRL-Zdk",
        "colab_type": "code",
        "colab": {}
      },
      "source": [
        "X, y = map(np.stack, zip(*trainset))\n",
        "X = X.transpose([0, 2, 1])  # to [batch, time, channels]\n",
        "\n",
        "X_train, X_val, y_train, y_val = train_test_split(X, y, random_state=42)"
      ],
      "execution_count": 0,
      "outputs": []
    },
    {
      "cell_type": "code",
      "metadata": {
        "id": "IczwoTY_-a0B",
        "colab_type": "code",
        "colab": {
          "base_uri": "https://localhost:8080/",
          "height": 493
        },
        "outputId": "1f2a41df-d187-4570-bb06-a0abc204b452"
      },
      "source": [
        "import keras, keras.layers\n",
        "\n",
        "model = keras.models.Sequential([\n",
        "    keras.layers.InputLayer(input_shape=(None, 128)), \n",
        "    keras.layers.Conv1D(32, kernel_size=4), keras.layers.Activation('relu'),\n",
        "    keras.layers.BatchNormalization(),\n",
        "    keras.layers.Conv1D(64, kernel_size=4), keras.layers.Activation('relu'),\n",
        "    keras.layers.BatchNormalization(),\n",
        "    keras.layers.Conv1D(128, kernel_size=4), keras.layers.Activation('relu'),\n",
        "    keras.layers.GlobalAveragePooling1D(),\n",
        "    keras.layers.Dense(2, activation='softmax')\n",
        "])\n",
        "model.summary()"
      ],
      "execution_count": 15,
      "outputs": [
        {
          "output_type": "stream",
          "text": [
            "Model: \"sequential_1\"\n",
            "_________________________________________________________________\n",
            "Layer (type)                 Output Shape              Param #   \n",
            "=================================================================\n",
            "conv1d_1 (Conv1D)            (None, None, 32)          16416     \n",
            "_________________________________________________________________\n",
            "activation_1 (Activation)    (None, None, 32)          0         \n",
            "_________________________________________________________________\n",
            "batch_normalization_1 (Batch (None, None, 32)          128       \n",
            "_________________________________________________________________\n",
            "conv1d_2 (Conv1D)            (None, None, 64)          8256      \n",
            "_________________________________________________________________\n",
            "activation_2 (Activation)    (None, None, 64)          0         \n",
            "_________________________________________________________________\n",
            "batch_normalization_2 (Batch (None, None, 64)          256       \n",
            "_________________________________________________________________\n",
            "conv1d_3 (Conv1D)            (None, None, 128)         32896     \n",
            "_________________________________________________________________\n",
            "activation_3 (Activation)    (None, None, 128)         0         \n",
            "_________________________________________________________________\n",
            "global_average_pooling1d_1 ( (None, 128)               0         \n",
            "_________________________________________________________________\n",
            "dense_1 (Dense)              (None, 2)                 258       \n",
            "=================================================================\n",
            "Total params: 58,210\n",
            "Trainable params: 58,018\n",
            "Non-trainable params: 192\n",
            "_________________________________________________________________\n"
          ],
          "name": "stdout"
        }
      ]
    },
    {
      "cell_type": "code",
      "metadata": {
        "id": "FjxyiDlZ-cV1",
        "colab_type": "code",
        "colab": {
          "base_uri": "https://localhost:8080/",
          "height": 751
        },
        "outputId": "1b27f30e-09cf-48f9-d406-b77a7002687f"
      },
      "source": [
        "model.compile('adam', 'sparse_categorical_crossentropy',\n",
        "          metrics = ['sparse_categorical_accuracy'])\n",
        "model.fit(X_train, y_train, epochs=20, validation_data = [X_val, y_val]) "
      ],
      "execution_count": 16,
      "outputs": [
        {
          "output_type": "stream",
          "text": [
            "Train on 3000 samples, validate on 1000 samples\n",
            "Epoch 1/20\n",
            "3000/3000 [==============================] - 5s 2ms/step - loss: 0.2574 - sparse_categorical_accuracy: 0.8940 - val_loss: 0.3327 - val_sparse_categorical_accuracy: 0.8920\n",
            "Epoch 2/20\n",
            "3000/3000 [==============================] - 5s 2ms/step - loss: 0.0753 - sparse_categorical_accuracy: 0.9777 - val_loss: 0.5925 - val_sparse_categorical_accuracy: 0.7180\n",
            "Epoch 3/20\n",
            "3000/3000 [==============================] - 5s 2ms/step - loss: 0.0358 - sparse_categorical_accuracy: 0.9903 - val_loss: 0.2344 - val_sparse_categorical_accuracy: 0.8770\n",
            "Epoch 4/20\n",
            "3000/3000 [==============================] - 5s 2ms/step - loss: 0.0334 - sparse_categorical_accuracy: 0.9880 - val_loss: 0.0491 - val_sparse_categorical_accuracy: 0.9860\n",
            "Epoch 5/20\n",
            "3000/3000 [==============================] - 5s 2ms/step - loss: 0.0344 - sparse_categorical_accuracy: 0.9893 - val_loss: 0.0405 - val_sparse_categorical_accuracy: 0.9860\n",
            "Epoch 6/20\n",
            "3000/3000 [==============================] - 5s 2ms/step - loss: 0.0179 - sparse_categorical_accuracy: 0.9927 - val_loss: 0.0426 - val_sparse_categorical_accuracy: 0.9870\n",
            "Epoch 7/20\n",
            "3000/3000 [==============================] - 5s 2ms/step - loss: 0.0134 - sparse_categorical_accuracy: 0.9957 - val_loss: 0.0379 - val_sparse_categorical_accuracy: 0.9890\n",
            "Epoch 8/20\n",
            "3000/3000 [==============================] - 5s 2ms/step - loss: 0.0101 - sparse_categorical_accuracy: 0.9977 - val_loss: 0.0431 - val_sparse_categorical_accuracy: 0.9870\n",
            "Epoch 9/20\n",
            "3000/3000 [==============================] - 5s 2ms/step - loss: 0.0071 - sparse_categorical_accuracy: 0.9980 - val_loss: 0.1267 - val_sparse_categorical_accuracy: 0.9550\n",
            "Epoch 10/20\n",
            "3000/3000 [==============================] - 5s 2ms/step - loss: 0.0101 - sparse_categorical_accuracy: 0.9970 - val_loss: 0.0711 - val_sparse_categorical_accuracy: 0.9790\n",
            "Epoch 11/20\n",
            "3000/3000 [==============================] - 5s 2ms/step - loss: 0.0035 - sparse_categorical_accuracy: 0.9990 - val_loss: 0.0654 - val_sparse_categorical_accuracy: 0.9840\n",
            "Epoch 12/20\n",
            "3000/3000 [==============================] - 5s 2ms/step - loss: 0.0015 - sparse_categorical_accuracy: 0.9997 - val_loss: 0.0960 - val_sparse_categorical_accuracy: 0.9710\n",
            "Epoch 13/20\n",
            "3000/3000 [==============================] - 5s 2ms/step - loss: 0.0016 - sparse_categorical_accuracy: 1.0000 - val_loss: 0.0521 - val_sparse_categorical_accuracy: 0.9860\n",
            "Epoch 14/20\n",
            "3000/3000 [==============================] - 5s 2ms/step - loss: 0.0034 - sparse_categorical_accuracy: 0.9983 - val_loss: 0.0889 - val_sparse_categorical_accuracy: 0.9820\n",
            "Epoch 15/20\n",
            "3000/3000 [==============================] - 5s 2ms/step - loss: 0.0260 - sparse_categorical_accuracy: 0.9927 - val_loss: 0.0553 - val_sparse_categorical_accuracy: 0.9880\n",
            "Epoch 16/20\n",
            "3000/3000 [==============================] - 5s 2ms/step - loss: 0.0208 - sparse_categorical_accuracy: 0.9933 - val_loss: 0.0324 - val_sparse_categorical_accuracy: 0.9910\n",
            "Epoch 17/20\n",
            "3000/3000 [==============================] - 5s 2ms/step - loss: 0.0023 - sparse_categorical_accuracy: 1.0000 - val_loss: 0.0414 - val_sparse_categorical_accuracy: 0.9880\n",
            "Epoch 18/20\n",
            "3000/3000 [==============================] - 5s 2ms/step - loss: 0.0018 - sparse_categorical_accuracy: 0.9997 - val_loss: 0.0440 - val_sparse_categorical_accuracy: 0.9890\n",
            "Epoch 19/20\n",
            "3000/3000 [==============================] - 5s 2ms/step - loss: 0.0010 - sparse_categorical_accuracy: 1.0000 - val_loss: 0.0548 - val_sparse_categorical_accuracy: 0.9850\n",
            "Epoch 20/20\n",
            "3000/3000 [==============================] - 5s 2ms/step - loss: 0.0016 - sparse_categorical_accuracy: 1.0000 - val_loss: 0.0466 - val_sparse_categorical_accuracy: 0.9890\n"
          ],
          "name": "stdout"
        },
        {
          "output_type": "execute_result",
          "data": {
            "text/plain": [
              "<keras.callbacks.callbacks.History at 0x7fc188eab748>"
            ]
          },
          "metadata": {
            "tags": []
          },
          "execution_count": 16
        }
      ]
    },
    {
      "cell_type": "code",
      "metadata": {
        "id": "rSiolmjJ-gLn",
        "colab_type": "code",
        "colab": {
          "base_uri": "https://localhost:8080/",
          "height": 117,
          "referenced_widgets": [
            "89cc31ca58614caab0dfd683738f8423",
            "e6f354dab90f47dbb47af1b4ac536734",
            "24f47fabdd7c48448a56c29e2f8bee83",
            "d80ae111fc6946ac801c60a0ec4b7336",
            "27ac1186d485423badea761589a35b5e",
            "d65a568cca0c4cecbc0e87857ec68b26",
            "bc1df84e1ed44c22a537892bc35739aa",
            "3ed6df3489a24b52a468ddcf21ed68f9"
          ]
        },
        "outputId": "3e73be62-e3b1-498c-d2cb-7c04c576e950"
      },
      "source": [
        "testset = create_dataset('test')\n",
        "X_test, y_test = map(np.stack, zip(*testset))\n",
        "X_test = X_test.transpose([0, 2, 1])  # to [batch, time, channels]"
      ],
      "execution_count": 17,
      "outputs": [
        {
          "output_type": "stream",
          "text": [
            "/usr/local/lib/python3.6/dist-packages/ipykernel_launcher.py:8: TqdmDeprecationWarning: This function will be removed in tqdm==5.0.0\n",
            "Please use `tqdm.notebook.tqdm` instead of `tqdm.tqdm_notebook`\n",
            "  \n"
          ],
          "name": "stderr"
        },
        {
          "output_type": "display_data",
          "data": {
            "application/vnd.jupyter.widget-view+json": {
              "model_id": "89cc31ca58614caab0dfd683738f8423",
              "version_minor": 0,
              "version_major": 2
            },
            "text/plain": [
              "HBox(children=(FloatProgress(value=0.0, max=150.0), HTML(value='')))"
            ]
          },
          "metadata": {
            "tags": []
          }
        },
        {
          "output_type": "stream",
          "text": [
            "\n"
          ],
          "name": "stdout"
        }
      ]
    },
    {
      "cell_type": "code",
      "metadata": {
        "id": "2TdAGg6H-jj1",
        "colab_type": "code",
        "colab": {
          "base_uri": "https://localhost:8080/",
          "height": 34
        },
        "outputId": "f72649e5-e5a1-43e5-e240-304840a20768"
      },
      "source": [
        "len(X_test)"
      ],
      "execution_count": 18,
      "outputs": [
        {
          "output_type": "execute_result",
          "data": {
            "text/plain": [
              "1500"
            ]
          },
          "metadata": {
            "tags": []
          },
          "execution_count": 18
        }
      ]
    },
    {
      "cell_type": "code",
      "metadata": {
        "id": "59IwbCG3-lWU",
        "colab_type": "code",
        "colab": {}
      },
      "source": [
        "y_pred = model.predict_classes(X_test)"
      ],
      "execution_count": 0,
      "outputs": []
    },
    {
      "cell_type": "code",
      "metadata": {
        "id": "QRz_6ipf-nFj",
        "colab_type": "code",
        "colab": {
          "base_uri": "https://localhost:8080/",
          "height": 34
        },
        "outputId": "3a2edcd7-80ae-4f97-fbeb-a9cebf78a0df"
      },
      "source": [
        "accuracy_score(y_pred, y_test)"
      ],
      "execution_count": 20,
      "outputs": [
        {
          "output_type": "execute_result",
          "data": {
            "text/plain": [
              "0.9886666666666667"
            ]
          },
          "metadata": {
            "tags": []
          },
          "execution_count": 20
        }
      ]
    },
    {
      "cell_type": "code",
      "metadata": {
        "id": "YlA-pG9B-ovV",
        "colab_type": "code",
        "colab": {}
      },
      "source": [
        "def spoil_with_noise(data, noise_factor=0.02,sampling_rate=16000,pitch_factor=0.9,speed_factor=0.5):\n",
        "    noise = np.random.normal(size=len(data))\n",
        "    augmented_data = data + noise_factor * noise\n",
        "    # Cast back to same data type\n",
        "    augmented_data = augmented_data.astype(type(data[0]))\n",
        "    augmented_data = librosa.effects.time_stretch(augmented_data, speed_factor)\n",
        "    augmented_data = librosa.effects.pitch_shift(data, sampling_rate, pitch_factor)\n",
        "    return augmented_data"
      ],
      "execution_count": 0,
      "outputs": []
    },
    {
      "cell_type": "code",
      "metadata": {
        "id": "r3TuSxk8-v88",
        "colab_type": "code",
        "colab": {}
      },
      "source": [
        "test_wav = person_1.sentence_by_index(0).raw_audio"
      ],
      "execution_count": 0,
      "outputs": []
    },
    {
      "cell_type": "code",
      "metadata": {
        "id": "svFrLoxU-xc2",
        "colab_type": "code",
        "colab": {
          "base_uri": "https://localhost:8080/",
          "height": 52
        },
        "outputId": "13173f63-4fe4-440b-e750-bd5dca442919"
      },
      "source": [
        "IPython.display.Audio(spoil_with_noise(person_1.sentence_by_index(0).raw_audio), rate=16000)"
      ],
      "execution_count": 23,
      "outputs": [
        {
          "output_type": "execute_result",
          "data": {
            "text/html": [
              "\n",
              "                <audio controls=\"controls\" >\n",
              "                    <source src=\"data:audio/wav;base64,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\" type=\"audio/wav\" />\n",
              "                    Your browser does not support the audio element.\n",
              "                </audio>\n",
              "              "
            ],
            "text/plain": [
              "<IPython.lib.display.Audio object>"
            ]
          },
          "metadata": {
            "tags": []
          },
          "execution_count": 23
        }
      ]
    },
    {
      "cell_type": "code",
      "metadata": {
        "id": "S-16q16i-z4B",
        "colab_type": "code",
        "colab": {}
      },
      "source": [
        "def spoil_dataset(mode='train'):\n",
        "  assert mode in ['train','test']\n",
        "  if mode == 'train':\n",
        "    people = [corpus.train.person_by_index(i) for i in range(400)]\n",
        "  if mode == 'test':\n",
        "    people = [corpus.test.person_by_index(i) for i in range(150)]\n",
        "  spectrograms_and_targets = []\n",
        "  for person in tqdm_notebook(people): \n",
        "    target = Speakers_info.return_sex(person.name)\n",
        "    for i in range(len(person.sentences)):\n",
        "      spectrograms_and_targets.append(preprocess_sample(spoil_with_noise(person.sentence_by_index(i).raw_audio),target))\n",
        "  return spectrograms_and_targets"
      ],
      "execution_count": 0,
      "outputs": []
    },
    {
      "cell_type": "code",
      "metadata": {
        "id": "VdTtKY3L-7hF",
        "colab_type": "code",
        "colab": {
          "base_uri": "https://localhost:8080/",
          "height": 117,
          "referenced_widgets": [
            "25c59d8eadf74c8f80a207829a75f3df",
            "8a248585ab9a4b189c4e21710a64482e",
            "466d84c3f76546c39057750d9c361f14",
            "a944245763f74d6fb878eea460803b03",
            "03468e5b1f4e45ae851e44528ab0b166",
            "c183625ad5b4456cb6d48eac28b089dd",
            "36c15f030e0f45e889b0527b73931dbb",
            "91e0172c325244c2a3ff8b0d2c8bd337"
          ]
        },
        "outputId": "8180e94e-5c6d-4dfc-e86a-d2524a943c78"
      },
      "source": [
        "testset = spoil_dataset('test')\n",
        "X_test, y_test = map(np.stack, zip(*testset))\n",
        "X_test = X_test.transpose([0, 2, 1])  # to [batch, time, channels]"
      ],
      "execution_count": 25,
      "outputs": [
        {
          "output_type": "stream",
          "text": [
            "/usr/local/lib/python3.6/dist-packages/ipykernel_launcher.py:8: TqdmDeprecationWarning: This function will be removed in tqdm==5.0.0\n",
            "Please use `tqdm.notebook.tqdm` instead of `tqdm.tqdm_notebook`\n",
            "  \n"
          ],
          "name": "stderr"
        },
        {
          "output_type": "display_data",
          "data": {
            "application/vnd.jupyter.widget-view+json": {
              "model_id": "25c59d8eadf74c8f80a207829a75f3df",
              "version_minor": 0,
              "version_major": 2
            },
            "text/plain": [
              "HBox(children=(FloatProgress(value=0.0, max=150.0), HTML(value='')))"
            ]
          },
          "metadata": {
            "tags": []
          }
        },
        {
          "output_type": "stream",
          "text": [
            "\n"
          ],
          "name": "stdout"
        }
      ]
    },
    {
      "cell_type": "code",
      "metadata": {
        "id": "UkanpvEE--M5",
        "colab_type": "code",
        "colab": {
          "base_uri": "https://localhost:8080/",
          "height": 34
        },
        "outputId": "f0fde1d7-cee4-46fc-c130-52a2321549aa"
      },
      "source": [
        "accuracy_score(model.predict_classes(X_test),y_test)"
      ],
      "execution_count": 26,
      "outputs": [
        {
          "output_type": "execute_result",
          "data": {
            "text/plain": [
              "0.926"
            ]
          },
          "metadata": {
            "tags": []
          },
          "execution_count": 26
        }
      ]
    },
    {
      "cell_type": "code",
      "metadata": {
        "id": "3_IMiGKlFHnX",
        "colab_type": "code",
        "colab": {
          "base_uri": "https://localhost:8080/",
          "height": 34
        },
        "outputId": "479e588b-e5e9-496e-8c4a-5d5dc9b910d2"
      },
      "source": [
        "X_val.shape"
      ],
      "execution_count": 27,
      "outputs": [
        {
          "output_type": "execute_result",
          "data": {
            "text/plain": [
              "(1000, 150, 128)"
            ]
          },
          "metadata": {
            "tags": []
          },
          "execution_count": 27
        }
      ]
    },
    {
      "cell_type": "code",
      "metadata": {
        "id": "iXnS2lZC_BfD",
        "colab_type": "code",
        "colab": {
          "base_uri": "https://localhost:8080/",
          "height": 117,
          "referenced_widgets": [
            "6dba6816edf54ef996b6238beed44d40",
            "73e1e8df2cd44ce68168320ae76aec00",
            "b32de6453813443abc289fb19022051d",
            "1ba1b6c670264e2d8d2ffd5d5dec7f7e",
            "6a599adb68eb461cb6bfb16c252091d0",
            "a3859fa5198a4cd1b80c8c340da75bf9",
            "1bef3e129ead471dba6f1f5767f5dac3",
            "64b20d1af75e40948a39b3c95bd643f3"
          ]
        },
        "outputId": "9b09454d-624d-4919-c07c-6e3b69946483"
      },
      "source": [
        "trainset1 = create_dataset('train')\n",
        "X1, y1 = map(np.stack, zip(*trainset1))\n",
        "X1 = X1.transpose([0, 2, 1])  # to [batch, time, channels]\n",
        "\n",
        "X_train1, X_val1, y_train1, y_val1 = train_test_split(X1, y1, random_state=42)"
      ],
      "execution_count": 28,
      "outputs": [
        {
          "output_type": "stream",
          "text": [
            "/usr/local/lib/python3.6/dist-packages/ipykernel_launcher.py:8: TqdmDeprecationWarning: This function will be removed in tqdm==5.0.0\n",
            "Please use `tqdm.notebook.tqdm` instead of `tqdm.tqdm_notebook`\n",
            "  \n"
          ],
          "name": "stderr"
        },
        {
          "output_type": "display_data",
          "data": {
            "application/vnd.jupyter.widget-view+json": {
              "model_id": "6dba6816edf54ef996b6238beed44d40",
              "version_minor": 0,
              "version_major": 2
            },
            "text/plain": [
              "HBox(children=(FloatProgress(value=0.0, max=400.0), HTML(value='')))"
            ]
          },
          "metadata": {
            "tags": []
          }
        },
        {
          "output_type": "stream",
          "text": [
            "\n"
          ],
          "name": "stdout"
        }
      ]
    },
    {
      "cell_type": "code",
      "metadata": {
        "id": "99go_P4a_fPz",
        "colab_type": "code",
        "colab": {
          "base_uri": "https://localhost:8080/",
          "height": 459
        },
        "outputId": "16a9ea9b-0161-451b-c63d-4166710d1491"
      },
      "source": [
        "import keras, keras.layers\n",
        "\n",
        "model1 = keras.models.Sequential([\n",
        "    keras.layers.InputLayer(input_shape=(None, 128)), \n",
        "    keras.layers.Conv1D(32, kernel_size=4), keras.layers.Activation('relu'),\n",
        "    keras.layers.BatchNormalization(),\n",
        "    keras.layers.Conv1D(64, kernel_size=4), keras.layers.Activation('relu'),\n",
        "    keras.layers.Conv1D(128, kernel_size=4), keras.layers.Activation('relu'),\n",
        "    keras.layers.GlobalAveragePooling1D(),\n",
        "    keras.layers.Dense(2, activation='softmax')\n",
        "])\n",
        "model1.summary()\n"
      ],
      "execution_count": 29,
      "outputs": [
        {
          "output_type": "stream",
          "text": [
            "Model: \"sequential_2\"\n",
            "_________________________________________________________________\n",
            "Layer (type)                 Output Shape              Param #   \n",
            "=================================================================\n",
            "conv1d_4 (Conv1D)            (None, None, 32)          16416     \n",
            "_________________________________________________________________\n",
            "activation_4 (Activation)    (None, None, 32)          0         \n",
            "_________________________________________________________________\n",
            "batch_normalization_3 (Batch (None, None, 32)          128       \n",
            "_________________________________________________________________\n",
            "conv1d_5 (Conv1D)            (None, None, 64)          8256      \n",
            "_________________________________________________________________\n",
            "activation_5 (Activation)    (None, None, 64)          0         \n",
            "_________________________________________________________________\n",
            "conv1d_6 (Conv1D)            (None, None, 128)         32896     \n",
            "_________________________________________________________________\n",
            "activation_6 (Activation)    (None, None, 128)         0         \n",
            "_________________________________________________________________\n",
            "global_average_pooling1d_2 ( (None, 128)               0         \n",
            "_________________________________________________________________\n",
            "dense_2 (Dense)              (None, 2)                 258       \n",
            "=================================================================\n",
            "Total params: 57,954\n",
            "Trainable params: 57,890\n",
            "Non-trainable params: 64\n",
            "_________________________________________________________________\n"
          ],
          "name": "stdout"
        }
      ]
    },
    {
      "cell_type": "code",
      "metadata": {
        "id": "enJlsrEJQ0jK",
        "colab_type": "code",
        "colab": {
          "base_uri": "https://localhost:8080/",
          "height": 241
        },
        "outputId": "0b557f8c-a635-43f6-eaae-c37de6b54a3f"
      },
      "source": [
        "model1.compile('adam', 'sparse_categorical_crossentropy',\n",
        "          metrics = ['sparse_categorical_accuracy'])\n",
        "model1.fit(X_train1, y_train1, epochs=5, validation_data = [X_val1, y_val1]) "
      ],
      "execution_count": 30,
      "outputs": [
        {
          "output_type": "stream",
          "text": [
            "Train on 3000 samples, validate on 1000 samples\n",
            "Epoch 1/5\n",
            "3000/3000 [==============================] - 4s 1ms/step - loss: 0.4186 - sparse_categorical_accuracy: 0.8067 - val_loss: 0.3926 - val_sparse_categorical_accuracy: 0.8770\n",
            "Epoch 2/5\n",
            "3000/3000 [==============================] - 4s 1ms/step - loss: 0.1398 - sparse_categorical_accuracy: 0.9603 - val_loss: 0.1892 - val_sparse_categorical_accuracy: 0.9500\n",
            "Epoch 3/5\n",
            "3000/3000 [==============================] - 4s 1ms/step - loss: 0.0758 - sparse_categorical_accuracy: 0.9793 - val_loss: 0.1020 - val_sparse_categorical_accuracy: 0.9760\n",
            "Epoch 4/5\n",
            "3000/3000 [==============================] - 4s 1ms/step - loss: 0.0507 - sparse_categorical_accuracy: 0.9840 - val_loss: 0.0775 - val_sparse_categorical_accuracy: 0.9820\n",
            "Epoch 5/5\n",
            "3000/3000 [==============================] - 4s 1ms/step - loss: 0.0341 - sparse_categorical_accuracy: 0.9900 - val_loss: 0.0579 - val_sparse_categorical_accuracy: 0.9890\n"
          ],
          "name": "stdout"
        },
        {
          "output_type": "execute_result",
          "data": {
            "text/plain": [
              "<keras.callbacks.callbacks.History at 0x7fc181a61a90>"
            ]
          },
          "metadata": {
            "tags": []
          },
          "execution_count": 30
        }
      ]
    },
    {
      "cell_type": "code",
      "metadata": {
        "id": "rNYnUKbf_yYV",
        "colab_type": "code",
        "colab": {
          "base_uri": "https://localhost:8080/",
          "height": 34
        },
        "outputId": "a065c27f-ed29-4ee2-fcf5-27389c4df684"
      },
      "source": [
        "y_pred = model.predict_classes(X_test)\n",
        "accuracy_score(y_pred, y_test)"
      ],
      "execution_count": 31,
      "outputs": [
        {
          "output_type": "execute_result",
          "data": {
            "text/plain": [
              "0.926"
            ]
          },
          "metadata": {
            "tags": []
          },
          "execution_count": 31
        }
      ]
    },
    {
      "cell_type": "code",
      "metadata": {
        "id": "loGPQeis_-01",
        "colab_type": "code",
        "colab": {}
      },
      "source": [
        ""
      ],
      "execution_count": 0,
      "outputs": []
    }
  ]
}